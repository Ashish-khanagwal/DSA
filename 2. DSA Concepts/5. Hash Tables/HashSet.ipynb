{
 "cells": [
  {
   "cell_type": "markdown",
   "id": "92d44779",
   "metadata": {},
   "source": [
    "# Hash Set from scratch in Python\n",
    "- We’ll use chaining (linked list or just a Python list) to handle collisions, because it’s the easiest to understand."
   ]
  },
  {
   "cell_type": "code",
   "execution_count": 5,
   "id": "13bfbe19",
   "metadata": {},
   "outputs": [
    {
     "name": "stdout",
     "output_type": "stream",
     "text": [
      "[]\n",
      "[1]\n",
      "[2]\n",
      "[]\n",
      "[]\n",
      "[]\n",
      "[]\n",
      "[]\n",
      "[]\n",
      "[]\n",
      "True\n",
      "False\n",
      "[]\n",
      "[1]\n",
      "[2]\n",
      "[]\n",
      "[]\n",
      "[]\n",
      "[]\n",
      "[]\n",
      "[]\n",
      "[]\n",
      "True\n",
      "[]\n",
      "[1]\n",
      "[]\n",
      "[]\n",
      "[]\n",
      "[]\n",
      "[]\n",
      "[]\n",
      "[]\n",
      "[]\n",
      "False\n"
     ]
    }
   ],
   "source": [
    "class HashSet:\n",
    "  def __init__(self):\n",
    "    self.size = 10\n",
    "    self.table = [[] for _ in range(self.size)]\n",
    "\n",
    "  def _hash(self, key):\n",
    "    return key % self.size\n",
    "\n",
    "  def add(self, key):\n",
    "    index = self._hash(key)\n",
    "    if key not in self.table[index]:\n",
    "      self.table[index].append(key)\n",
    "\n",
    "  def remove(self, key):\n",
    "    index = self._hash(key)\n",
    "    if key in self.table[index]:\n",
    "      self.table[index].remove(key)\n",
    "\n",
    "  def contains(self, key):\n",
    "    index = self._hash(key)\n",
    "    return key in self.table[index]\n",
    "\n",
    "  def display(self):\n",
    "    for i in self.table:\n",
    "      print(i)\n",
    "\n",
    "ht = HashSet()\n",
    "\n",
    "ht.add(1)\n",
    "ht.add(2)\n",
    "ht.display()\n",
    "\n",
    "print(ht.contains(1))\n",
    "print(ht.contains(3))\n",
    "\n",
    "ht.add(2)\n",
    "ht.display()\n",
    "print(ht.contains(2))\n",
    "\n",
    "ht.remove(2)\n",
    "ht.display()\n",
    "print(ht.contains(2))"
   ]
  }
 ],
 "metadata": {
  "kernelspec": {
   "display_name": ".venv",
   "language": "python",
   "name": "python3"
  },
  "language_info": {
   "codemirror_mode": {
    "name": "ipython",
    "version": 3
   },
   "file_extension": ".py",
   "mimetype": "text/x-python",
   "name": "python",
   "nbconvert_exporter": "python",
   "pygments_lexer": "ipython3",
   "version": "3.13.6"
  }
 },
 "nbformat": 4,
 "nbformat_minor": 5
}
